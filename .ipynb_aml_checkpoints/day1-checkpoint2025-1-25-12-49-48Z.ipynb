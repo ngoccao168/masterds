{
 "cells": [
  {
   "cell_type": "code",
   "execution_count": 2,
   "id": "c55420af-c491-4c57-a5d9-93e17a4bf5d4",
   "metadata": {},
   "outputs": [
    {
     "name": "stdout",
     "output_type": "stream",
     "text": [
      "Ten is greater than five!\n"
     ]
    }
   ],
   "source": [
    "if 10 > 5:\n",
    "    print(\"Ten is greater than five!\")"
   ]
  },
  {
   "cell_type": "code",
   "execution_count": 3,
   "id": "55b9c6c3-0501-4bc4-b66a-ed542c5ee551",
   "metadata": {},
   "outputs": [
    {
     "data": {
      "text/plain": [
       "8"
      ]
     },
     "execution_count": 3,
     "metadata": {},
     "output_type": "execute_result"
    }
   ],
   "source": [
    "#This is to sum 2 numbers\n",
    "\"\"\"or we can comment \n",
    "like this\"\"\"\n",
    "\n",
    "def sum(a, b):\n",
    "    result = a+b\n",
    "    return result\n",
    "sum(5,3)"
   ]
  },
  {
   "cell_type": "code",
   "execution_count": 34,
   "id": "372bec5e-0aa9-4873-99ab-b1fa11b92c92",
   "metadata": {},
   "outputs": [
    {
     "data": {
      "text/plain": [
       "16.0"
      ]
     },
     "execution_count": 34,
     "metadata": {},
     "output_type": "execute_result"
    }
   ],
   "source": [
    "def sum(a:int, b:float):\n",
    "    result = a+b\n",
    "    return result\n",
    "sum(8.0, 8)"
   ]
  },
  {
   "cell_type": "code",
   "execution_count": 10,
   "id": "ea9d6bc8-1edd-47e6-a4be-c44281cf5f92",
   "metadata": {},
   "outputs": [],
   "source": [
    "age=\"thirty\""
   ]
  },
  {
   "cell_type": "code",
   "execution_count": 5,
   "id": "defe797e-fba1-4b0a-acaf-f2ca9b6d9709",
   "metadata": {},
   "outputs": [
    {
     "data": {
      "text/plain": [
       "120"
      ]
     },
     "execution_count": 5,
     "metadata": {},
     "output_type": "execute_result"
    }
   ],
   "source": [
    "age*4"
   ]
  },
  {
   "cell_type": "code",
   "execution_count": 12,
   "id": "cf158cd3-2d60-4931-813b-6ba9abbf1ef2",
   "metadata": {},
   "outputs": [],
   "source": [
    "age2 = 30.5 #: int 30\n",
    "#print(age2 + 3)\n"
   ]
  },
  {
   "cell_type": "code",
   "execution_count": 13,
   "id": "3ea5ad0e-b488-49fc-964e-c3466588dcf4",
   "metadata": {},
   "outputs": [
    {
     "data": {
      "text/plain": [
       "float"
      ]
     },
     "execution_count": 13,
     "metadata": {},
     "output_type": "execute_result"
    }
   ],
   "source": [
    "type(age2)"
   ]
  },
  {
   "cell_type": "code",
   "execution_count": 14,
   "id": "0ae5f54a-be03-4d9e-9b4e-668dfc38b1ed",
   "metadata": {},
   "outputs": [
    {
     "data": {
      "text/plain": [
       "0"
      ]
     },
     "execution_count": 14,
     "metadata": {},
     "output_type": "execute_result"
    }
   ],
   "source": [
    "int(False)"
   ]
  },
  {
   "cell_type": "code",
   "execution_count": 15,
   "id": "4c970fcf-7e53-42ed-b2a9-f7bb3d8bcec5",
   "metadata": {},
   "outputs": [
    {
     "data": {
      "text/plain": [
       "True"
      ]
     },
     "execution_count": 15,
     "metadata": {},
     "output_type": "execute_result"
    }
   ],
   "source": [
    "True"
   ]
  },
  {
   "cell_type": "code",
   "execution_count": 16,
   "id": "e78b0b3a-32de-4277-9d43-ae22009d0e5d",
   "metadata": {},
   "outputs": [
    {
     "name": "stdout",
     "output_type": "stream",
     "text": [
      "correct\n"
     ]
    }
   ],
   "source": [
    "if (10>5) ==1:\n",
    "    print (\"correct\")"
   ]
  },
  {
   "cell_type": "code",
   "execution_count": 17,
   "id": "480022f4-8db5-4e5c-bbf4-c8a1d4cb2203",
   "metadata": {},
   "outputs": [
    {
     "data": {
      "text/plain": [
       "8.0"
      ]
     },
     "execution_count": 17,
     "metadata": {},
     "output_type": "execute_result"
    }
   ],
   "source": [
    "float(8)"
   ]
  },
  {
   "cell_type": "code",
   "execution_count": 19,
   "id": "9ee23628-ee24-4299-946e-b8855cb7d629",
   "metadata": {},
   "outputs": [
    {
     "data": {
      "text/plain": [
       "str"
      ]
     },
     "execution_count": 19,
     "metadata": {},
     "output_type": "execute_result"
    }
   ],
   "source": [
    "type(age)"
   ]
  },
  {
   "cell_type": "code",
   "execution_count": 23,
   "id": "c67237c5-e72d-45fd-a8e5-6ee5a7793eea",
   "metadata": {},
   "outputs": [
    {
     "data": {
      "text/plain": [
       "3"
      ]
     },
     "execution_count": 23,
     "metadata": {},
     "output_type": "execute_result"
    }
   ],
   "source": [
    "f = 3.14\n",
    "int(f)"
   ]
  },
  {
   "cell_type": "code",
   "execution_count": 25,
   "id": "0ed1cfee-333d-4067-9c37-cec2cf9dd822",
   "metadata": {},
   "outputs": [],
   "source": [
    "maxdistance = 100"
   ]
  },
  {
   "cell_type": "code",
   "execution_count": 26,
   "id": "7de9b351-a49e-4ebe-a9ae-3d96043a9d82",
   "metadata": {},
   "outputs": [],
   "source": [
    "temperature = 27.4"
   ]
  },
  {
   "cell_type": "code",
   "execution_count": null,
   "id": "298a693b-40ec-4560-88c5-092372c5eae8",
   "metadata": {},
   "outputs": [],
   "source": [
    "greeting = "
   ]
  },
  {
   "cell_type": "code",
   "execution_count": 29,
   "id": "6301af54-9fe5-4001-bb91-4f49459356b0",
   "metadata": {},
   "outputs": [],
   "source": [
    "maxDistance:int = \"Hello\""
   ]
  },
  {
   "cell_type": "code",
   "execution_count": 31,
   "id": "d0fff54d-73a8-42ac-a117-9ce96a38b975",
   "metadata": {},
   "outputs": [
    {
     "data": {
      "text/plain": [
       "str"
      ]
     },
     "execution_count": 31,
     "metadata": {},
     "output_type": "execute_result"
    }
   ],
   "source": [
    "type(maxDistance)"
   ]
  },
  {
   "cell_type": "code",
   "execution_count": 35,
   "id": "f6b1b700-a2a6-4ada-a9e8-4485bde699be",
   "metadata": {},
   "outputs": [
    {
     "data": {
      "text/plain": [
       "99.99"
      ]
     },
     "execution_count": 35,
     "metadata": {},
     "output_type": "execute_result"
    }
   ],
   "source": [
    "float(str(99.99))"
   ]
  },
  {
   "cell_type": "code",
   "execution_count": 36,
   "id": "5c4b08cc-a455-4ef3-9c6e-089836a4f0b9",
   "metadata": {},
   "outputs": [
    {
     "data": {
      "text/plain": [
       "6"
      ]
     },
     "execution_count": 36,
     "metadata": {},
     "output_type": "execute_result"
    }
   ],
   "source": [
    "20//3"
   ]
  },
  {
   "cell_type": "code",
   "execution_count": 37,
   "id": "76c6b102-a1d9-4373-bac1-c3d4391e1de4",
   "metadata": {},
   "outputs": [
    {
     "data": {
      "text/plain": [
       "6.666666666666667"
      ]
     },
     "execution_count": 37,
     "metadata": {},
     "output_type": "execute_result"
    }
   ],
   "source": [
    "20/3"
   ]
  },
  {
   "cell_type": "markdown",
   "id": "c0ccaa4a-785a-401a-90b5-1050ad6870c2",
   "metadata": {},
   "source": [
    "# Header 1\n",
    "    ## header 2"
   ]
  },
  {
   "cell_type": "code",
   "execution_count": 40,
   "id": "3519f35e-d094-479c-949a-a509793add36",
   "metadata": {},
   "outputs": [
    {
     "data": {
      "text/plain": [
       "13"
      ]
     },
     "execution_count": 40,
     "metadata": {},
     "output_type": "execute_result"
    }
   ],
   "source": [
    "a = 8\n",
    "b = 5\n",
    "n = a + b\n",
    "n"
   ]
  },
  {
   "cell_type": "code",
   "execution_count": 41,
   "id": "c4769bcd-7832-4bf0-a89a-8db39104df31",
   "metadata": {},
   "outputs": [
    {
     "data": {
      "text/plain": [
       "True"
      ]
     },
     "execution_count": 41,
     "metadata": {},
     "output_type": "execute_result"
    }
   ],
   "source": [
    "n == a+b"
   ]
  },
  {
   "cell_type": "code",
   "execution_count": 42,
   "id": "c462c3b1-34b0-48b0-9dcb-d377a9218c07",
   "metadata": {},
   "outputs": [
    {
     "data": {
      "text/plain": [
       "13"
      ]
     },
     "execution_count": 42,
     "metadata": {},
     "output_type": "execute_result"
    }
   ],
   "source": [
    "a += 5\n",
    "a"
   ]
  },
  {
   "cell_type": "code",
   "execution_count": 43,
   "id": "6f5b0823-36ce-4353-80d8-883b103182b8",
   "metadata": {},
   "outputs": [
    {
     "data": {
      "text/plain": [
       "True"
      ]
     },
     "execution_count": 43,
     "metadata": {},
     "output_type": "execute_result"
    }
   ],
   "source": [
    "3 ==3.0"
   ]
  },
  {
   "cell_type": "code",
   "execution_count": 53,
   "id": "00fcbdb8-4ebe-4f7f-904e-73c1fb85bd27",
   "metadata": {},
   "outputs": [
    {
     "name": "stdin",
     "output_type": "stream",
     "text": [
      "Enter value for x 6\n",
      "Enter value for y 7\n"
     ]
    },
    {
     "name": "stdout",
     "output_type": "stream",
     "text": [
      "The sum is 13\n"
     ]
    }
   ],
   "source": [
    "x = int(input(\"Enter value for x\"))\n",
    "y = int(input(\"Enter value for y\"))\n",
    "z = str(x+y)\n",
    "print(\"The sum is \" + z)\n"
   ]
  },
  {
   "cell_type": "code",
   "execution_count": 48,
   "id": "76e31565-cf9a-4f18-9a3f-efb5f64946b9",
   "metadata": {},
   "outputs": [
    {
     "name": "stdin",
     "output_type": "stream",
     "text": [
      "Enter value for y 7\n"
     ]
    }
   ],
   "source": [
    "y = input(\"Enter value for y\")"
   ]
  },
  {
   "cell_type": "code",
   "execution_count": 55,
   "id": "63b60798-d2df-49a0-af3a-81a97a9164e3",
   "metadata": {},
   "outputs": [
    {
     "data": {
      "text/plain": [
       "8"
      ]
     },
     "execution_count": 55,
     "metadata": {},
     "output_type": "execute_result"
    }
   ],
   "source": [
    "a=5\n",
    "a += 3\n",
    "a"
   ]
  },
  {
   "cell_type": "code",
   "execution_count": 61,
   "id": "5ccfcd4c-9ffc-4a48-8a65-f726c595456d",
   "metadata": {},
   "outputs": [
    {
     "name": "stdout",
     "output_type": "stream",
     "text": [
      "is a*b==50\n",
      "True\n",
      "1\n",
      "2\n",
      "3\n"
     ]
    }
   ],
   "source": [
    "a=10\n",
    "b=5\n",
    "print(\"is a*b==50\", a*b==50, 1,2,3, sep=\"\\n\")"
   ]
  },
  {
   "cell_type": "code",
   "execution_count": 65,
   "id": "71659b63-ed0d-4065-9658-9a8f4d874b65",
   "metadata": {},
   "outputs": [
    {
     "name": "stdout",
     "output_type": "stream",
     "text": [
      "my wife said \"No\"\n",
      "while my daughter said \"yes\"\n"
     ]
    }
   ],
   "source": [
    "print('''my wife said \"No\"\n",
    "while my daughter said \"yes\"''')"
   ]
  },
  {
   "cell_type": "code",
   "execution_count": 77,
   "id": "efdda7aa-3912-4b53-9e46-c3df0105e05e",
   "metadata": {},
   "outputs": [
    {
     "data": {
      "text/plain": [
       "'wife said'"
      ]
     },
     "execution_count": 77,
     "metadata": {},
     "output_type": "execute_result"
    }
   ],
   "source": [
    "s = 'my wife said'\n",
    "s[3:7]\n",
    "s[:7]\n",
    "s[8:]\n",
    "s[-1]\n",
    "s[:]\n",
    "s[-9:]"
   ]
  },
  {
   "cell_type": "code",
   "execution_count": 83,
   "id": "9d51e465-61da-426e-96e7-4ff20cb72900",
   "metadata": {},
   "outputs": [
    {
     "name": "stdout",
     "output_type": "stream",
     "text": [
      "The sum of 10\n"
     ]
    }
   ],
   "source": [
    "print (\"The sum of {}\".format(a))\n"
   ]
  },
  {
   "cell_type": "code",
   "execution_count": 85,
   "id": "ed330540-57ab-4e85-a6a7-1f8ec7199d68",
   "metadata": {},
   "outputs": [
    {
     "name": "stdout",
     "output_type": "stream",
     "text": [
      "the sum of 10 and 5 is 15\n"
     ]
    }
   ],
   "source": [
    "print(f\"the sum of {a} and {b} is {a+b}\")"
   ]
  }
 ],
 "metadata": {
  "kernelspec": {
   "display_name": "sky",
   "language": "python",
   "name": "sky"
  },
  "language_info": {
   "codemirror_mode": {
    "name": "ipython",
    "version": 3
   },
   "file_extension": ".py",
   "mimetype": "text/x-python",
   "name": "python",
   "nbconvert_exporter": "python",
   "pygments_lexer": "ipython3",
   "version": "3.11.11"
  }
 },
 "nbformat": 4,
 "nbformat_minor": 5
}
