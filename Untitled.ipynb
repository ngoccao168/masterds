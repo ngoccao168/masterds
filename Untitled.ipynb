{
 "cells": [
  {
   "cell_type": "code",
   "execution_count": 2,
   "id": "7d9fe909-6906-45b7-a15d-7e4fee7fe49b",
   "metadata": {},
   "outputs": [
    {
     "name": "stdin",
     "output_type": "stream",
     "text": [
      "Pls input an even number 5\n"
     ]
    },
    {
     "data": {
      "text/plain": [
       "5"
      ]
     },
     "execution_count": 2,
     "metadata": {},
     "output_type": "execute_result"
    }
   ],
   "source": [
    "a = input(\"Pls input an even number\")\n",
    "int_a = int(float(a))\n",
    "int_a"
   ]
  },
  {
   "cell_type": "code",
   "execution_count": 5,
   "id": "307bd046-57b7-4b2f-b84f-01e6014ef041",
   "metadata": {},
   "outputs": [
    {
     "data": {
      "text/plain": [
       "1"
      ]
     },
     "execution_count": 5,
     "metadata": {},
     "output_type": "execute_result"
    }
   ],
   "source": [
    "int_a%2"
   ]
  },
  {
   "cell_type": "code",
   "execution_count": null,
   "id": "b9c894dc-5de9-4fa9-ac73-abbe188f5cba",
   "metadata": {},
   "outputs": [],
   "source": [
    "a = input(\"Pls input an even number\")\n",
    "int_a = int(float(a))\n",
    "while a != str(int_a) or int_a%2 !=0:\n",
    "    warning = \"Please input an even number!\"\n",
    "    a = input(\"Pls input an even number\")\n",
    "    if a == str(int_a) and int_a%2 ==0:\n",
    "        warning = \"Perfect, thank you!\"\n",
    "        break\n",
    "print(warning)"
   ]
  },
  {
   "cell_type": "code",
   "execution_count": null,
   "id": "0de5c9f5-00ce-4db8-bf54-821c8e9af8ac",
   "metadata": {},
   "outputs": [],
   "source": []
  },
  {
   "cell_type": "code",
   "execution_count": null,
   "id": "49b320e6-91e6-4639-bdff-f1beb3524cbf",
   "metadata": {},
   "outputs": [],
   "source": []
  },
  {
   "cell_type": "code",
   "execution_count": null,
   "id": "66c0224e-5a8f-4bf6-9b97-535859836a3d",
   "metadata": {},
   "outputs": [],
   "source": []
  }
 ],
 "metadata": {
  "kernelspec": {
   "display_name": "sky",
   "language": "python",
   "name": "sky"
  },
  "language_info": {
   "codemirror_mode": {
    "name": "ipython",
    "version": 3
   },
   "file_extension": ".py",
   "mimetype": "text/x-python",
   "name": "python",
   "nbconvert_exporter": "python",
   "pygments_lexer": "ipython3",
   "version": "3.11.11"
  }
 },
 "nbformat": 4,
 "nbformat_minor": 5
}
