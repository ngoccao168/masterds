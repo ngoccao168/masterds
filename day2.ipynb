{
 "cells": [
  {
   "cell_type": "markdown",
   "id": "0cacc329-cd8a-4345-a10a-fcfa3d0a83b1",
   "metadata": {},
   "source": [
    "# LISTS: Ordered, mutable collections of elements"
   ]
  },
  {
   "cell_type": "code",
   "execution_count": 31,
   "id": "b9c894dc-5de9-4fa9-ac73-abbe188f5cba",
   "metadata": {},
   "outputs": [
    {
     "data": {
      "text/plain": [
       "list"
      ]
     },
     "execution_count": 31,
     "metadata": {},
     "output_type": "execute_result"
    }
   ],
   "source": [
    "my_list = [1, 3, 3.5, 'Ngoc', True]\n",
    "type(my_list)"
   ]
  },
  {
   "cell_type": "code",
   "execution_count": 32,
   "id": "a0245008-6f83-4d26-9ec6-e80ce87624d5",
   "metadata": {},
   "outputs": [
    {
     "data": {
      "text/plain": [
       "[1, 3, 3.5]"
      ]
     },
     "execution_count": 32,
     "metadata": {},
     "output_type": "execute_result"
    }
   ],
   "source": [
    "my_list[:3]"
   ]
  },
  {
   "cell_type": "code",
   "execution_count": 33,
   "id": "458dc7a6-a718-42a5-8888-180ce3be99df",
   "metadata": {},
   "outputs": [
    {
     "data": {
      "text/plain": [
       "['Ngoc', True]"
      ]
     },
     "execution_count": 33,
     "metadata": {},
     "output_type": "execute_result"
    }
   ],
   "source": [
    "my_list[-2:]"
   ]
  },
  {
   "cell_type": "code",
   "execution_count": 34,
   "id": "4aedd2f8-0632-4e67-82da-1138666b9629",
   "metadata": {},
   "outputs": [
    {
     "data": {
      "text/plain": [
       "[1, 3, 3.5, 'Quynh', True]"
      ]
     },
     "execution_count": 34,
     "metadata": {},
     "output_type": "execute_result"
    }
   ],
   "source": [
    "my_list[3] = \"Quynh\"\n",
    "my_list"
   ]
  },
  {
   "cell_type": "code",
   "execution_count": 35,
   "id": "56f2370c-7408-456f-b27d-7cdc802829fc",
   "metadata": {},
   "outputs": [
    {
     "data": {
      "text/plain": [
       "[1, 3, 3.5, 'Quynh', True, [8, 'Tri']]"
      ]
     },
     "execution_count": 35,
     "metadata": {},
     "output_type": "execute_result"
    }
   ],
   "source": [
    "my_list.append([8, 'Tri'])\n",
    "my_list"
   ]
  },
  {
   "cell_type": "code",
   "execution_count": 36,
   "id": "7fb30ef7-ac98-4f67-addc-1413bea7d8e1",
   "metadata": {},
   "outputs": [
    {
     "data": {
      "text/plain": [
       "[1, 3, 3.5, 'Quynh', True]"
      ]
     },
     "execution_count": 36,
     "metadata": {},
     "output_type": "execute_result"
    }
   ],
   "source": [
    "my_list.remove([8, 'Tri'])\n",
    "my_list"
   ]
  },
  {
   "cell_type": "code",
   "execution_count": 37,
   "id": "36070e9b-6abe-4037-81fa-0f5d26ae4354",
   "metadata": {},
   "outputs": [
    {
     "data": {
      "text/plain": [
       "[1, 3, 'Quynh', True]"
      ]
     },
     "execution_count": 37,
     "metadata": {},
     "output_type": "execute_result"
    }
   ],
   "source": [
    "my_list.remove(3.5)\n",
    "my_list"
   ]
  },
  {
   "cell_type": "code",
   "execution_count": 38,
   "id": "05eb525d-a570-4b01-a704-7d113d811b28",
   "metadata": {},
   "outputs": [
    {
     "data": {
      "text/plain": [
       "[1, 3, 'Quynh', True, 2]"
      ]
     },
     "execution_count": 38,
     "metadata": {},
     "output_type": "execute_result"
    }
   ],
   "source": [
    "my_list.append(2)\n",
    "my_list"
   ]
  },
  {
   "cell_type": "code",
   "execution_count": 39,
   "id": "02d54293-97b5-497b-aef8-7b7bd332c252",
   "metadata": {},
   "outputs": [
    {
     "data": {
      "text/plain": [
       "[1, 3, 'Quynh', True]"
      ]
     },
     "execution_count": 39,
     "metadata": {},
     "output_type": "execute_result"
    }
   ],
   "source": [
    "my_list.remove(2)\n",
    "my_list"
   ]
  },
  {
   "cell_type": "code",
   "execution_count": 40,
   "id": "8ee5c932-f3bc-4433-9636-810aa042dc5c",
   "metadata": {},
   "outputs": [
    {
     "data": {
      "text/plain": [
       "[1, 'Quynh', True]"
      ]
     },
     "execution_count": 40,
     "metadata": {},
     "output_type": "execute_result"
    }
   ],
   "source": [
    "my_list.pop(1)\n",
    "my_list"
   ]
  },
  {
   "cell_type": "code",
   "execution_count": 41,
   "id": "39a8fcfc-f401-43c4-b358-4783d1d8147a",
   "metadata": {},
   "outputs": [
    {
     "data": {
      "text/plain": [
       "[1, 'Quynh']"
      ]
     },
     "execution_count": 41,
     "metadata": {},
     "output_type": "execute_result"
    }
   ],
   "source": [
    "my_list.pop(-1)\n",
    "my_list"
   ]
  },
  {
   "cell_type": "code",
   "execution_count": 26,
   "id": "63f32bf1-b22f-4ea2-be52-6ced89adf369",
   "metadata": {},
   "outputs": [
    {
     "data": {
      "text/plain": [
       "[1, True, 2]"
      ]
     },
     "execution_count": 26,
     "metadata": {},
     "output_type": "execute_result"
    }
   ],
   "source": [
    "my_list.pop(2)\n",
    "my_list"
   ]
  },
  {
   "cell_type": "markdown",
   "id": "80d2e2fa-d734-47f2-ba48-671ea4345099",
   "metadata": {},
   "source": [
    "# TUPLES: ordered, non-mutable collection of elements"
   ]
  },
  {
   "cell_type": "code",
   "execution_count": 48,
   "id": "1553fff0-b3f2-43da-b069-22eb238153ed",
   "metadata": {},
   "outputs": [
    {
     "data": {
      "text/plain": [
       "('apple', 'banana', 'cherry', 3.14)"
      ]
     },
     "execution_count": 48,
     "metadata": {},
     "output_type": "execute_result"
    }
   ],
   "source": [
    "my_tuple = (\"apple\", \"banana\", \"cherry\", 3.14)\n",
    "my_tuple"
   ]
  },
  {
   "cell_type": "code",
   "execution_count": 49,
   "id": "870a195a-6299-4c96-9f30-4e04b68bd956",
   "metadata": {},
   "outputs": [
    {
     "data": {
      "text/plain": [
       "'banana'"
      ]
     },
     "execution_count": 49,
     "metadata": {},
     "output_type": "execute_result"
    }
   ],
   "source": [
    "my_tuple[1]"
   ]
  },
  {
   "cell_type": "code",
   "execution_count": 42,
   "id": "674c16b6-c84a-4883-83b4-eddf72893393",
   "metadata": {
    "scrolled": true
   },
   "outputs": [
    {
     "ename": "TypeError",
     "evalue": "'tuple' object does not support item assignment",
     "output_type": "error",
     "traceback": [
      "\u001b[0;31m---------------------------------------------------------------------------\u001b[0m",
      "\u001b[0;31mTypeError\u001b[0m                                 Traceback (most recent call last)",
      "Cell \u001b[0;32mIn[42], line 1\u001b[0m\n\u001b[0;32m----> 1\u001b[0m \u001b[43mmy_tuple\u001b[49m\u001b[43m[\u001b[49m\u001b[38;5;241;43m1\u001b[39;49m\u001b[43m]\u001b[49m \u001b[38;5;241m=\u001b[39m \u001b[38;5;124m\"\u001b[39m\u001b[38;5;124mpomelo\u001b[39m\u001b[38;5;124m\"\u001b[39m\n\u001b[1;32m      2\u001b[0m my_tuple\n",
      "\u001b[0;31mTypeError\u001b[0m: 'tuple' object does not support item assignment"
     ]
    }
   ],
   "source": [
    "my_tuple[1] = \"pomelo\"\n",
    "my_tuple\n"
   ]
  },
  {
   "cell_type": "code",
   "execution_count": 43,
   "id": "d90e2e3e-3b96-4df5-95fc-f13249a95861",
   "metadata": {},
   "outputs": [
    {
     "data": {
      "text/plain": [
       "tuple"
      ]
     },
     "execution_count": 43,
     "metadata": {},
     "output_type": "execute_result"
    }
   ],
   "source": [
    "type(my_tuple)"
   ]
  },
  {
   "cell_type": "markdown",
   "id": "5a264f9f-405b-4cfa-aacc-a0e0022b700d",
   "metadata": {},
   "source": [
    "# Dictionary: unordered, mutable collection of key-value pairs"
   ]
  },
  {
   "cell_type": "code",
   "execution_count": 55,
   "id": "e9fbe5b1-6c2a-4f77-aca1-578c9c53a977",
   "metadata": {},
   "outputs": [
    {
     "data": {
      "text/plain": [
       "{'name': 'Ngoc', 'age': 30, 'location': 'Binh Thanh'}"
      ]
     },
     "execution_count": 55,
     "metadata": {},
     "output_type": "execute_result"
    }
   ],
   "source": [
    "my_dict = {\n",
    "    \"name\": \"Ngoc\",\n",
    "    \"age\": 30,\n",
    "    \"location\": \"Binh Thanh\"\n",
    "}\n",
    "my_dict"
   ]
  },
  {
   "cell_type": "code",
   "execution_count": 56,
   "id": "bb1b401e-91f0-460c-b988-4827da6da1e8",
   "metadata": {},
   "outputs": [
    {
     "data": {
      "text/plain": [
       "{'name': 'Ngoc', 'age': 30, 'location': 'HCM'}"
      ]
     },
     "execution_count": 56,
     "metadata": {},
     "output_type": "execute_result"
    }
   ],
   "source": [
    "my_dict[\"location\"] = \"HCM\"\n",
    "my_dict"
   ]
  },
  {
   "cell_type": "code",
   "execution_count": 57,
   "id": "bef62497-4e75-4fe1-91d4-42dcd2f3a54a",
   "metadata": {},
   "outputs": [
    {
     "data": {
      "text/plain": [
       "{'name': 'Ngoc', 'age': 30, 'location': ('apple', 'banana', 'cherry', 3.14)}"
      ]
     },
     "execution_count": 57,
     "metadata": {},
     "output_type": "execute_result"
    }
   ],
   "source": [
    "my_dict[\"location\"] = my_tuple\n",
    "my_dict"
   ]
  },
  {
   "cell_type": "code",
   "execution_count": 58,
   "id": "04c4c0b4-cbdd-4637-bf3d-99630dcee269",
   "metadata": {},
   "outputs": [
    {
     "data": {
      "text/plain": [
       "[{'name': 'Ngoc', 'age': 30, 'location': 'Binh Thanh'},\n",
       " {'name': 'Tri', 'age': 34, 'location': 'Binh Thanh'}]"
      ]
     },
     "execution_count": 58,
     "metadata": {},
     "output_type": "execute_result"
    }
   ],
   "source": [
    "my_dict1 = {\n",
    "    \"name\": \"Ngoc\",\n",
    "    \"age\": 30,\n",
    "    \"location\": \"Binh Thanh\"\n",
    "}\n",
    "my_dict2 = {\n",
    "    \"name\": \"Tri\",\n",
    "    \"age\": 34,\n",
    "    \"location\": \"Binh Thanh\"\n",
    "}\n",
    "\n",
    "my_dict_comb = [my_dict1, my_dict2]\n",
    "my_dict_comb"
   ]
  },
  {
   "cell_type": "code",
   "execution_count": 54,
   "id": "e57f48df-e9e3-495d-98cb-ef0a9d1b8100",
   "metadata": {},
   "outputs": [
    {
     "data": {
      "text/plain": [
       "{'name': 'Ngoc', 'age': 30, 'location': 'Binh Thanh'}"
      ]
     },
     "execution_count": 54,
     "metadata": {},
     "output_type": "execute_result"
    }
   ],
   "source": [
    "my_dict[0]"
   ]
  },
  {
   "cell_type": "code",
   "execution_count": null,
   "id": "26e94e9b-af59-4c50-886b-62a46911f2b2",
   "metadata": {},
   "outputs": [],
   "source": [
    "my_dict"
   ]
  },
  {
   "cell_type": "markdown",
   "id": "6b6e7a89-84d7-47ac-a7fd-11cc0b3124ba",
   "metadata": {},
   "source": [
    "# Sets: unordered, mutable collection of unique elements"
   ]
  },
  {
   "cell_type": "code",
   "execution_count": 71,
   "id": "4036febc-0ccb-49f3-8cce-fca54fd0433a",
   "metadata": {},
   "outputs": [
    {
     "data": {
      "text/plain": [
       "{1, 2, 3, 4, 5, 'Ngoc'}"
      ]
     },
     "execution_count": 71,
     "metadata": {},
     "output_type": "execute_result"
    }
   ],
   "source": [
    "my_set = {1, 2, 3, 4, 5, \"Ngoc\"}\n",
    "my_set"
   ]
  },
  {
   "cell_type": "code",
   "execution_count": 72,
   "id": "9963ac02-f131-4a52-9678-2b3a00188fbe",
   "metadata": {},
   "outputs": [
    {
     "data": {
      "text/plain": [
       "{1, 2, 3, 4, 5, 6}"
      ]
     },
     "execution_count": 72,
     "metadata": {},
     "output_type": "execute_result"
    }
   ],
   "source": [
    "my_set = {1, 2, 3, 4, 5, 4, 3, 6}\n",
    "my_set"
   ]
  },
  {
   "cell_type": "code",
   "execution_count": 73,
   "id": "0de0123f-ea8c-4274-a408-6fd648fae0da",
   "metadata": {},
   "outputs": [
    {
     "name": "stdout",
     "output_type": "stream",
     "text": [
      "1\n",
      "2\n",
      "3\n",
      "4\n",
      "5\n",
      "6\n"
     ]
    }
   ],
   "source": [
    "for i in my_set:\n",
    "    print(i)"
   ]
  },
  {
   "cell_type": "code",
   "execution_count": 74,
   "id": "691d140f-6260-44c3-b41a-b4be97e73c39",
   "metadata": {},
   "outputs": [
    {
     "data": {
      "text/plain": [
       "{1, 3, 4, 5, 6}"
      ]
     },
     "execution_count": 74,
     "metadata": {},
     "output_type": "execute_result"
    }
   ],
   "source": [
    "my_set.discard(2)\n",
    "my_set"
   ]
  },
  {
   "cell_type": "code",
   "execution_count": 75,
   "id": "3ecec3b6-4c82-4106-a0f8-3599793d548f",
   "metadata": {},
   "outputs": [
    {
     "data": {
      "text/plain": [
       "{1, 3, 4, 5, 6, 8}"
      ]
     },
     "execution_count": 75,
     "metadata": {},
     "output_type": "execute_result"
    }
   ],
   "source": [
    "my_set.add(8)\n",
    "my_set"
   ]
  },
  {
   "cell_type": "code",
   "execution_count": 76,
   "id": "c2a84ef4-ca16-47f0-9db2-2e4ebcd61d39",
   "metadata": {},
   "outputs": [
    {
     "data": {
      "text/plain": [
       "True"
      ]
     },
     "execution_count": 76,
     "metadata": {},
     "output_type": "execute_result"
    }
   ],
   "source": [
    "3 in my_set"
   ]
  },
  {
   "cell_type": "code",
   "execution_count": 77,
   "id": "54526ba5-fdc4-4aed-8ff0-22bc4493ea85",
   "metadata": {},
   "outputs": [
    {
     "data": {
      "text/plain": [
       "[1, 3, 4, 5, 6, 8]"
      ]
     },
     "execution_count": 77,
     "metadata": {},
     "output_type": "execute_result"
    }
   ],
   "source": [
    "my_set_list = list(my_set)\n",
    "my_set_list"
   ]
  },
  {
   "cell_type": "code",
   "execution_count": 78,
   "id": "9e5b4802-0e08-4cb8-b146-e9be74c76e4b",
   "metadata": {},
   "outputs": [
    {
     "data": {
      "text/plain": [
       "1"
      ]
     },
     "execution_count": 78,
     "metadata": {},
     "output_type": "execute_result"
    }
   ],
   "source": [
    "min(my_set)"
   ]
  },
  {
   "cell_type": "code",
   "execution_count": 79,
   "id": "f966bf78-10f0-4e29-a5c1-af75462460cc",
   "metadata": {},
   "outputs": [
    {
     "data": {
      "text/plain": [
       "[{'name': 'Ngoc', 'age': 30, 'location': 'Binh Thanh'},\n",
       " {'name': 'Tri', 'age': 34, 'location': 'Binh Thanh'},\n",
       " {'name': 'Ngoc', 'age': 30, 'location': ('apple', 'banana', 'cherry', 3.14)}]"
      ]
     },
     "execution_count": 79,
     "metadata": {},
     "output_type": "execute_result"
    }
   ],
   "source": [
    "my_dict1 = {\n",
    "    \"name\": \"Ngoc\",\n",
    "    \"age\": 30,\n",
    "    \"location\": \"Binh Thanh\"\n",
    "}\n",
    "my_dict2 = {\n",
    "    \"name\": \"Tri\",\n",
    "    \"age\": 34,\n",
    "    \"location\": \"Binh Thanh\"\n",
    "}\n",
    "\n",
    "my_dict_comb = [my_dict1, my_dict2, my_dict]\n",
    "my_dict_comb"
   ]
  },
  {
   "cell_type": "code",
   "execution_count": 80,
   "id": "9d72d4de-2eef-4566-82d5-f02ab28eb18d",
   "metadata": {},
   "outputs": [
    {
     "data": {
      "text/plain": [
       "'apple'"
      ]
     },
     "execution_count": 80,
     "metadata": {},
     "output_type": "execute_result"
    }
   ],
   "source": [
    "my_dict_comb[2][\"location\"][0]"
   ]
  },
  {
   "cell_type": "code",
   "execution_count": 81,
   "id": "98275baa-f8f4-4cc6-8aa3-94e685e44234",
   "metadata": {},
   "outputs": [
    {
     "data": {
      "text/plain": [
       "'Tri'"
      ]
     },
     "execution_count": 81,
     "metadata": {},
     "output_type": "execute_result"
    }
   ],
   "source": [
    "my_dict_t = {\n",
    "    \"name\": \"Ngoc\",\n",
    "    \"name\": \"Tri\",\n",
    "    \"age\": 30,\n",
    "    \"location\": \"Binh Thanh\"\n",
    "}\n",
    "my_dict_t[\"name\"] #the last one wins"
   ]
  },
  {
   "cell_type": "code",
   "execution_count": 82,
   "id": "44e137b8-f273-4b56-987c-0a4a4a4eae89",
   "metadata": {},
   "outputs": [
    {
     "data": {
      "text/plain": [
       "dict_keys(['name', 'age', 'location'])"
      ]
     },
     "execution_count": 82,
     "metadata": {},
     "output_type": "execute_result"
    }
   ],
   "source": [
    "my_dict_t.keys()"
   ]
  },
  {
   "cell_type": "code",
   "execution_count": 83,
   "id": "ffd3152c-75f1-493e-aa16-4505eaaa248a",
   "metadata": {},
   "outputs": [
    {
     "data": {
      "text/plain": [
       "dict_values(['Tri', 30, 'Binh Thanh'])"
      ]
     },
     "execution_count": 83,
     "metadata": {},
     "output_type": "execute_result"
    }
   ],
   "source": [
    "my_dict_t.values()"
   ]
  },
  {
   "cell_type": "markdown",
   "id": "36f8db6c-ef90-406b-90fb-855ba89c91a2",
   "metadata": {},
   "source": [
    "# Control flows statements in Python"
   ]
  },
  {
   "cell_type": "code",
   "execution_count": 88,
   "id": "664a7e17-4fdd-4de1-8806-af28a6c1c0fe",
   "metadata": {},
   "outputs": [
    {
     "name": "stdout",
     "output_type": "stream",
     "text": [
      "Ten is NOT greater than eighty\n"
     ]
    }
   ],
   "source": [
    "if 10>80:\n",
    "    print(\"Ten is greater than eighty\")\n",
    "elif \"A\" == \"B\":\n",
    "    print(\"equal\")\n",
    "print(\"Ten is NOT greater than eighty\")"
   ]
  },
  {
   "cell_type": "code",
   "execution_count": 90,
   "id": "28a99e90-93d1-43d2-826f-4f0b22b6c44a",
   "metadata": {},
   "outputs": [
    {
     "name": "stdout",
     "output_type": "stream",
     "text": [
      "10 is greater than 5\n"
     ]
    }
   ],
   "source": [
    "a = 10\n",
    "b = 5\n",
    "if a > b:\n",
    "    print(f\"{a} is greater than {b}\")\n",
    "elif a==10:\n",
    "    print(f\"{a} is ten\")"
   ]
  },
  {
   "cell_type": "code",
   "execution_count": 93,
   "id": "efc23490-d32f-4918-8105-96583cf47c50",
   "metadata": {},
   "outputs": [
    {
     "name": "stdin",
     "output_type": "stream",
     "text": [
      "Please input a random number 5\n"
     ]
    }
   ],
   "source": []
  },
  {
   "cell_type": "code",
   "execution_count": 96,
   "id": "b4a142e1-9d34-4d6b-8d6c-d40983ca86a3",
   "metadata": {},
   "outputs": [
    {
     "name": "stdin",
     "output_type": "stream",
     "text": [
      "Please input a random number -2\n"
     ]
    },
    {
     "name": "stdout",
     "output_type": "stream",
     "text": [
      "Negative\n"
     ]
    }
   ],
   "source": [
    "#Exercise 1\n",
    "a = int(input(\"Please input a random number\"))\n",
    "if a > 0:\n",
    "    print(\"Positive\")\n",
    "elif a == 0:\n",
    "    print(\"Zero\")\n",
    "else:\n",
    "    print(\"Negative\")"
   ]
  },
  {
   "cell_type": "code",
   "execution_count": 101,
   "id": "bd993765-7672-4479-b46a-332004dcf6a5",
   "metadata": {},
   "outputs": [
    {
     "name": "stdin",
     "output_type": "stream",
     "text": [
      "Please input your age 15\n"
     ]
    },
    {
     "name": "stdout",
     "output_type": "stream",
     "text": [
      "Teenager\n"
     ]
    }
   ],
   "source": [
    "#Exercise 2\n",
    "'''Exercise 2: Nested Conditions\n",
    " • Ask the user to input their age.\n",
    " • If the age is less than 13, print \"Child\".\n",
    " • If the age is between 13 and 19, print \"Teenager\".\n",
    " • If the age is between 20 and 65, print \"Adult\".\n",
    " • If the age is over 65, print \"Senior\"\n",
    " '''\n",
    "age = int(input(\"Please input your age\"))\n",
    "if age <13:\n",
    "    print(\"Child\")\n",
    "#elif age >= 13 and age <= 19:\n",
    "#elif 13 <= age <= 19:\n",
    "elif age <=19:\n",
    "    print(\"Teenager\")\n",
    "elif age >= 20 and age <= 65:\n",
    "    print(\"Adult\")\n",
    "else:\n",
    "    print(\"Senior\")"
   ]
  },
  {
   "cell_type": "code",
   "execution_count": 103,
   "id": "73959fb5-c174-444d-8173-139838593b08",
   "metadata": {},
   "outputs": [
    {
     "name": "stdin",
     "output_type": "stream",
     "text": [
      "Pls input score 67\n"
     ]
    },
    {
     "name": "stdout",
     "output_type": "stream",
     "text": [
      "your score is D\n"
     ]
    }
   ],
   "source": [
    "#Exercise 3\n",
    "'''Exercise 3: Multiple Conditions\n",
    " • Create a variable to store a grade (0-100).\n",
    " • Use anif-elif-else chain to determine the letter \n",
    "grade (A, B, C, D, F).\n",
    " • A: 90-100\n",
    " • B: 80-89\n",
    " • C: 70-79\n",
    " • D: 60-69\n",
    " • F: Below 60\n",
    " • Print the letter grade.\n",
    " '''\n",
    "grade = int(input(\"Pls input score\"))\n",
    "if grade < 60:\n",
    "    score = \"F\"\n",
    "elif grade <70:\n",
    "    score = \"D\"\n",
    "elif grade <80:\n",
    "    score = \"C\"\n",
    "elif grade <90:\n",
    "    score = \"B\"\n",
    "else:\n",
    "    score = \"A\"\n",
    "print(f\"your score is {score}\")"
   ]
  },
  {
   "cell_type": "code",
   "execution_count": 105,
   "id": "5c30001b-139f-4cea-a335-11feb54bcd68",
   "metadata": {},
   "outputs": [
    {
     "name": "stdin",
     "output_type": "stream",
     "text": [
      "Pls input a boolean value True\n",
      "Pls input a boolean value False\n"
     ]
    },
    {
     "data": {
      "text/plain": [
       "'False'"
      ]
     },
     "execution_count": 105,
     "metadata": {},
     "output_type": "execute_result"
    }
   ],
   "source": [
    "a = input(\"Pls input a boolean value\")\n",
    "b = input(\"Pls input a boolean value\")\n",
    "a and b\n",
    "#A or B\n",
    "#A + B"
   ]
  },
  {
   "cell_type": "code",
   "execution_count": 115,
   "id": "6ae8e5ba-1111-4842-af75-d744f5d8beec",
   "metadata": {},
   "outputs": [],
   "source": [
    "def xor(a:bool, b:bool):\n",
    "    if a and b:\n",
    "        return False\n",
    "    elif a and not b:\n",
    "        return True\n",
    "    elif not a and not b:\n",
    "        return True\n",
    "    else:\n",
    "        return False"
   ]
  },
  {
   "cell_type": "code",
   "execution_count": 116,
   "id": "163304bb-922b-4ea7-b0e1-199404ad7010",
   "metadata": {},
   "outputs": [
    {
     "data": {
      "text/plain": [
       "True"
      ]
     },
     "execution_count": 116,
     "metadata": {},
     "output_type": "execute_result"
    }
   ],
   "source": [
    "xor(True, False)"
   ]
  },
  {
   "cell_type": "code",
   "execution_count": 110,
   "id": "760d3775-a171-4e94-9d8e-fda9c8fb5a4a",
   "metadata": {},
   "outputs": [],
   "source": [
    "def xor(a:bool, b:bool):\n",
    "    if a != b:\n",
    "        return True\n",
    "    else:\n",
    "        return False"
   ]
  },
  {
   "cell_type": "code",
   "execution_count": 111,
   "id": "8aa5bddf-02ab-45cc-9975-ecba75782cf3",
   "metadata": {},
   "outputs": [
    {
     "data": {
      "text/plain": [
       "True"
      ]
     },
     "execution_count": 111,
     "metadata": {},
     "output_type": "execute_result"
    }
   ],
   "source": [
    "xor(True, False)"
   ]
  },
  {
   "cell_type": "code",
   "execution_count": 112,
   "id": "3651807e-6c47-4788-b567-7d9e9729d32b",
   "metadata": {},
   "outputs": [
    {
     "data": {
      "text/plain": [
       "True"
      ]
     },
     "execution_count": 112,
     "metadata": {},
     "output_type": "execute_result"
    }
   ],
   "source": [
    "def xor(a:bool, b:bool):\n",
    "    return a != b\n",
    "xor(True, False)"
   ]
  },
  {
   "cell_type": "code",
   "execution_count": 114,
   "id": "1d1ce346-4e2c-479d-b38e-01eb4e6401e2",
   "metadata": {},
   "outputs": [
    {
     "data": {
      "text/plain": [
       "True"
      ]
     },
     "execution_count": 114,
     "metadata": {},
     "output_type": "execute_result"
    }
   ],
   "source": [
    "a = True\n",
    "b = False\n",
    "a != b"
   ]
  },
  {
   "cell_type": "markdown",
   "id": "55098626-027e-4be0-8fbd-43a15f18a08f",
   "metadata": {},
   "source": [
    "# Loops"
   ]
  },
  {
   "cell_type": "code",
   "execution_count": 117,
   "id": "33cf9ab9-0e1a-494a-b272-057e323dbc37",
   "metadata": {},
   "outputs": [
    {
     "data": {
      "text/plain": [
       "range(0, 5)"
      ]
     },
     "execution_count": 117,
     "metadata": {},
     "output_type": "execute_result"
    }
   ],
   "source": [
    "range(5)"
   ]
  },
  {
   "cell_type": "code",
   "execution_count": 118,
   "id": "c4e647ac-19b7-4a3e-947c-f310891dcef6",
   "metadata": {},
   "outputs": [
    {
     "name": "stdout",
     "output_type": "stream",
     "text": [
      "0\n",
      "1\n",
      "2\n",
      "3\n",
      "4\n"
     ]
    }
   ],
   "source": [
    "for i in range(5):\n",
    "    print(i)"
   ]
  },
  {
   "cell_type": "code",
   "execution_count": 119,
   "id": "d31f471c-b715-40a0-b52b-8c5370385d14",
   "metadata": {},
   "outputs": [
    {
     "data": {
      "text/plain": [
       "[0, 1, 2, 3, 4]"
      ]
     },
     "execution_count": 119,
     "metadata": {},
     "output_type": "execute_result"
    }
   ],
   "source": [
    "a = list(range(5))\n",
    "a"
   ]
  },
  {
   "cell_type": "code",
   "execution_count": 122,
   "id": "97ff7773-f2c6-4006-8f0b-710421618fe1",
   "metadata": {},
   "outputs": [
    {
     "name": "stdout",
     "output_type": "stream",
     "text": [
      "0\n",
      "3\n",
      "4\n",
      "2\n"
     ]
    }
   ],
   "source": [
    "for n in [0, 3, 4, 2]:\n",
    "    print(n)"
   ]
  },
  {
   "cell_type": "code",
   "execution_count": 123,
   "id": "114df393-d4e1-4446-88b1-cd72c9aa8b74",
   "metadata": {},
   "outputs": [
    {
     "name": "stdout",
     "output_type": "stream",
     "text": [
      "0\n",
      "1\n",
      "2\n",
      "3\n",
      "4\n"
     ]
    }
   ],
   "source": [
    "counter = 0\n",
    "while counter <5:\n",
    "    print(counter)\n",
    "    counter +=1"
   ]
  },
  {
   "cell_type": "code",
   "execution_count": 124,
   "id": "d36d8d03-023c-41ef-ba45-dd318d1a3d79",
   "metadata": {},
   "outputs": [
    {
     "name": "stdout",
     "output_type": "stream",
     "text": [
      "0\n",
      "1\n",
      "2\n",
      "3\n"
     ]
    }
   ],
   "source": [
    "counter = 0\n",
    "while counter <5:\n",
    "    print(counter)\n",
    "    counter += 1\n",
    "    if counter ==3:\n",
    "        break\n",
    "print(counter)"
   ]
  },
  {
   "cell_type": "code",
   "execution_count": 125,
   "id": "e625c1ee-401c-4b3d-ac59-4ba41f165c83",
   "metadata": {},
   "outputs": [
    {
     "data": {
      "text/plain": [
       "[[1, 2, 3], [4, 5, 6]]"
      ]
     },
     "execution_count": 125,
     "metadata": {},
     "output_type": "execute_result"
    }
   ],
   "source": [
    "multi_dim_list = [\n",
    "    [1,2,3],\n",
    "    [4,5,6]\n",
    "]\n",
    "multi_dim_list"
   ]
  },
  {
   "cell_type": "code",
   "execution_count": 128,
   "id": "e3bdf1e8-471b-422c-ba31-d42c952615ae",
   "metadata": {},
   "outputs": [
    {
     "data": {
      "text/plain": [
       "6"
      ]
     },
     "execution_count": 128,
     "metadata": {},
     "output_type": "execute_result"
    }
   ],
   "source": [
    "multi_dim_list[1][2]"
   ]
  },
  {
   "cell_type": "code",
   "execution_count": 129,
   "id": "a59bbc7f-104b-4b38-9b9e-836379f47c64",
   "metadata": {},
   "outputs": [
    {
     "name": "stdout",
     "output_type": "stream",
     "text": [
      "1\n",
      "2\n",
      "3\n",
      "4\n",
      "5\n",
      "6\n"
     ]
    }
   ],
   "source": [
    "for i in multi_dim_list:\n",
    "    for j in i:\n",
    "        print(j)"
   ]
  },
  {
   "cell_type": "code",
   "execution_count": 130,
   "id": "3de22e4e-fa84-4556-868f-fd3da1945784",
   "metadata": {
    "scrolled": true
   },
   "outputs": [
    {
     "name": "stdout",
     "output_type": "stream",
     "text": [
      "1\n",
      "2\n",
      "3\n",
      "4\n",
      "5\n",
      "6\n"
     ]
    }
   ],
   "source": [
    "for i in [0,1]:\n",
    "    for j in [0,1,2]:\n",
    "        print(multi_dim_list[i][j])"
   ]
  },
  {
   "cell_type": "code",
   "execution_count": null,
   "id": "b32d03f1-dec4-4256-9eb3-83a031693fbc",
   "metadata": {},
   "outputs": [],
   "source": [
    "#write function that ask user to enter an even number, if user enter not even number, or text, ask for another, if user enter text, tell them to enter a number - not text"
   ]
  },
  {
   "cell_type": "code",
   "execution_count": 215,
   "id": "0081207a-4886-44b4-958d-686ac8b7dbd4",
   "metadata": {},
   "outputs": [
    {
     "name": "stdin",
     "output_type": "stream",
     "text": [
      "Pls input an even number 5\n"
     ]
    },
    {
     "name": "stdout",
     "output_type": "stream",
     "text": [
      "This is not an even number\n"
     ]
    },
    {
     "name": "stdin",
     "output_type": "stream",
     "text": [
      "Pls input an even number 3.5\n"
     ]
    },
    {
     "name": "stdout",
     "output_type": "stream",
     "text": [
      "3.5 is not a number\n"
     ]
    },
    {
     "name": "stdin",
     "output_type": "stream",
     "text": [
      "Pls input an even number 4\n"
     ]
    },
    {
     "name": "stdout",
     "output_type": "stream",
     "text": [
      "This is an even number\n"
     ]
    }
   ],
   "source": [
    "can_exit = False\n",
    "while not(can_exit):\n",
    "    a = input(\"Pls input an even number\")\n",
    "    if a.isnumeric():\n",
    "        if int(a)%2 ==0: \n",
    "            print(\"This is an even number\")\n",
    "            can_exit = True\n",
    "        else:\n",
    "            print(\"This is not an even number\")\n",
    "    else:\n",
    "        print(f\"{a} is not a number\")"
   ]
  },
  {
   "cell_type": "code",
   "execution_count": null,
   "id": "d295719e-1f5a-40c9-8cfe-188682a0b4a1",
   "metadata": {},
   "outputs": [],
   "source": []
  }
 ],
 "metadata": {
  "kernelspec": {
   "display_name": "sky",
   "language": "python",
   "name": "sky"
  },
  "language_info": {
   "codemirror_mode": {
    "name": "ipython",
    "version": 3
   },
   "file_extension": ".py",
   "mimetype": "text/x-python",
   "name": "python",
   "nbconvert_exporter": "python",
   "pygments_lexer": "ipython3",
   "version": "3.11.11"
  }
 },
 "nbformat": 4,
 "nbformat_minor": 5
}
